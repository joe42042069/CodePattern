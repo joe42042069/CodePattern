{
  "nbformat": 4,
  "nbformat_minor": 0,
  "metadata": {
    "colab": {
      "provenance": []
    },
    "kernelspec": {
      "name": "python3",
      "display_name": "Python 3"
    },
    "language_info": {
      "name": "python"
    }
  },
  "cells": [
    {
      "cell_type": "code",
      "execution_count": 3,
      "metadata": {
        "colab": {
          "base_uri": "https://localhost:8080/"
        },
        "id": "pBr30MA3GukS",
        "outputId": "fa1bc76b-fc21-43d1-db70-3506a94b6e5f"
      },
      "outputs": [
        {
          "output_type": "stream",
          "name": "stdout",
          "text": [
            "Looking in indexes: https://pypi.org/simple, https://us-python.pkg.dev/colab-wheels/public/simple/\n",
            "Requirement already satisfied: chatterbot==1.0.4 in /usr/local/lib/python3.9/dist-packages (1.0.4)\n",
            "Requirement already satisfied: sqlalchemy<1.3,>=1.2 in /usr/local/lib/python3.9/dist-packages (from chatterbot==1.0.4) (1.2.19)\n",
            "Requirement already satisfied: chatterbot-corpus<1.3,>=1.2 in /usr/local/lib/python3.9/dist-packages (from chatterbot==1.0.4) (1.2.0)\n",
            "Requirement already satisfied: python-dateutil<2.8,>=2.7 in /usr/local/lib/python3.9/dist-packages (from chatterbot==1.0.4) (2.7.5)\n",
            "Requirement already satisfied: pymongo<4.0,>=3.3 in /usr/local/lib/python3.9/dist-packages (from chatterbot==1.0.4) (3.13.0)\n",
            "Requirement already satisfied: pint>=0.8.1 in /usr/local/lib/python3.9/dist-packages (from chatterbot==1.0.4) (0.20.1)\n",
            "Requirement already satisfied: mathparse<0.2,>=0.1 in /usr/local/lib/python3.9/dist-packages (from chatterbot==1.0.4) (0.1.2)\n",
            "Requirement already satisfied: nltk<4.0,>=3.2 in /usr/local/lib/python3.9/dist-packages (from chatterbot==1.0.4) (3.8.1)\n",
            "Requirement already satisfied: PyYAML<4.0,>=3.12 in /usr/local/lib/python3.9/dist-packages (from chatterbot-corpus<1.3,>=1.2->chatterbot==1.0.4) (3.13)\n",
            "Requirement already satisfied: joblib in /usr/local/lib/python3.9/dist-packages (from nltk<4.0,>=3.2->chatterbot==1.0.4) (1.2.0)\n",
            "Requirement already satisfied: regex>=2021.8.3 in /usr/local/lib/python3.9/dist-packages (from nltk<4.0,>=3.2->chatterbot==1.0.4) (2022.10.31)\n",
            "Requirement already satisfied: click in /usr/local/lib/python3.9/dist-packages (from nltk<4.0,>=3.2->chatterbot==1.0.4) (8.1.3)\n",
            "Requirement already satisfied: tqdm in /usr/local/lib/python3.9/dist-packages (from nltk<4.0,>=3.2->chatterbot==1.0.4) (4.65.0)\n",
            "Requirement already satisfied: six>=1.5 in /usr/local/lib/python3.9/dist-packages (from python-dateutil<2.8,>=2.7->chatterbot==1.0.4) (1.16.0)\n"
          ]
        }
      ],
      "source": [
        "pip install chatterbot==1.0.4\n"
      ]
    },
    {
      "cell_type": "code",
      "source": [
        "# Import \"chatbot\" from\n",
        "# chatterbot package.\n",
        "from chatterbot import ChatBot\n",
        "\n",
        "# Inorder to train our bot, we have\n",
        "# to import a trainer package\n",
        "# \"ChatterBotCorpusTrainer\"\n",
        "from chatterbot.trainers import ChatterBotCorpusTrainer\n",
        "from chatterbot.trainers import ListTrainer\n",
        "\n",
        "\n",
        "\n",
        "my_bot = ChatBot(name='PyBot', read_only=True,\n",
        "                 logic_adapters=['chatterbot.logic.MathematicalEvaluation',\n",
        "                                 'chatterbot.logic.BestMatch'])\n",
        "\n",
        "small_talk = ['hi there!',\n",
        "              'hi!',\n",
        "              'how do you do?',\n",
        "              'how are you?',\n",
        "              'i\\'m cool.',\n",
        "              'fine, you?',\n",
        "              'always cool.',\n",
        "              'i\\'m ok',\n",
        "              'glad to hear that.',\n",
        "              'i\\'m fine',\n",
        "              'glad to hear that.',\n",
        "              'i feel awesome',\n",
        "              'excellent, glad to hear that.',\n",
        "              'not so good',\n",
        "              'sorry to hear that.',\n",
        "              'what\\'s your name?',\n",
        "              'i\\'m pybot.']\n",
        "math_talk_1 = ['pythagorean theorem',\n",
        "               'a squared plus b squared equals c squared.']\n",
        "math_talk_2 = ['law of cosines',\n",
        "               'c**2 = a**2 + b**2 - 2 * a * b * cos(gamma)']\n",
        "\n",
        "list_trainer = ListTrainer(my_bot)\n",
        "for item in (small_talk, math_talk_1, math_talk_2):\n",
        "    list_trainer.train(item)\n"
      ],
      "metadata": {
        "colab": {
          "base_uri": "https://localhost:8080/"
        },
        "id": "4I3FgaFGR9lg",
        "outputId": "c832d63d-40c0-4d23-844c-5494ddf52955"
      },
      "execution_count": 26,
      "outputs": [
        {
          "output_type": "stream",
          "name": "stdout",
          "text": [
            "List Trainer: [####################] 100%\n",
            "List Trainer: [####################] 100%\n",
            "List Trainer: [####################] 100%\n"
          ]
        },
        {
          "output_type": "stream",
          "name": "stderr",
          "text": [
            "[nltk_data] Downloading package averaged_perceptron_tagger to\n",
            "[nltk_data]     /root/nltk_data...\n",
            "[nltk_data]   Package averaged_perceptron_tagger is already up-to-\n",
            "[nltk_data]       date!\n",
            "[nltk_data] Downloading package punkt to /root/nltk_data...\n",
            "[nltk_data]   Package punkt is already up-to-date!\n",
            "[nltk_data] Downloading package stopwords to /root/nltk_data...\n",
            "[nltk_data]   Package stopwords is already up-to-date!\n"
          ]
        }
      ]
    },
    {
      "cell_type": "code",
      "source": [
        "corpus_trainer = ChatterBotCorpusTrainer(my_bot)\n",
        "corpus_trainer.train('chatterbot.corpus.english')"
      ],
      "metadata": {
        "colab": {
          "base_uri": "https://localhost:8080/"
        },
        "id": "4HayM-f4eYZL",
        "outputId": "23530a97-4443-438c-b4bc-7960ea0fda4b"
      },
      "execution_count": 27,
      "outputs": [
        {
          "output_type": "stream",
          "name": "stdout",
          "text": [
            "Training ai.yml: [####################] 100%\n",
            "Training botprofile.yml: [####################] 100%\n",
            "Training computers.yml: [####################] 100%\n",
            "Training conversations.yml: [####################] 100%\n",
            "\n",
            "Training food.yml: [####################] 100%\n",
            "Training gossip.yml: [####################] 100%\n",
            "Training greetings.yml: [####################] 100%\n",
            "Training health.yml: [####################] 100%\n",
            "Training history.yml: [####################] 100%\n",
            "Training humor.yml: [####################] 100%\n",
            "Training literature.yml: [####################] 100%\n",
            "Training money.yml: [####################] 100%\n",
            "Training movies.yml: [####################] 100%\n",
            "Training politics.yml: [####################] 100%\n",
            "Training psychology.yml: [####################] 100%\n",
            "Training science.yml: [####################] 100%\n",
            "Training sports.yml: [####################] 100%\n",
            "Training trivia.yml: [####################] 100%\n"
          ]
        }
      ]
    },
    {
      "cell_type": "code",
      "source": [
        "response = my_bot.get_response('Hello')\n",
        "print(response)\n",
        "\n",
        "response = my_bot.get_response('how do you do?')\n",
        "print(response)\n",
        "\n",
        "response = my_bot.get_response('what is your name?')\n",
        "print(response)\n",
        "\n",
        "response = my_bot.get_response('What are you?')\n",
        "print(response)"
      ],
      "metadata": {
        "colab": {
          "base_uri": "https://localhost:8080/"
        },
        "id": "owcqtvu-fm8b",
        "outputId": "b1f0a763-cce3-4bb9-8220-a4585aea5124"
      },
      "execution_count": 28,
      "outputs": [
        {
          "output_type": "stream",
          "name": "stdout",
          "text": [
            "Hi\n",
            "I'm doing well.\n",
            "i'm pybot. ask me a math question, please.\n",
            "I am just an artificial intelligence.\n"
          ]
        }
      ]
    }
  ]
}